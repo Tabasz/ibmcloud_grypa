{
    "cells": [
        {
            "metadata": {},
            "cell_type": "markdown",
            "source": "Dane liczby zachorowa\u0144 w Polsce, liczba ludno\u015bci, estymacja parametru A w modelu Kermacka\u2013McKendricka na podstawie \u015bredniego czasu inkubacji SARS-CoV-2"
        },
        {
            "metadata": {},
            "cell_type": "code",
            "source": "import numpy as np\ndni = np.array([4, 5, 6, 7, 8, 9, 10, 11, 12, 13, 14, 15, 16, 17, 18, 19, 20, 21, 22])\nzachorowania = np.array([1, 0, 4, 0, 6, 5, 6, 9, 18, 19, 35, 16, 58, 61, 13, 104, 70, 111, 98])\ntotal = np.cumsum(zachorowania)\n\nprint(len(zachorowania), total)\ndata_len = len(zachorowania)\nludnosc = 37717326\nsr_okres_inkubacji = 5.2\nA = 1 / sr_okres_inkubacji",
            "execution_count": 20,
            "outputs": [
                {
                    "output_type": "stream",
                    "text": "19 [  1   1   5   5  11  16  22  31  49  68 103 119 177 238 251 355 425 536\n 634]\n",
                    "name": "stdout"
                }
            ]
        },
        {
            "metadata": {},
            "cell_type": "markdown",
            "source": "Predykcja liczby chorych modelem Kermacka\u2013McKendricka"
        },
        {
            "metadata": {},
            "cell_type": "code",
            "source": "def predict(A, B, S, I, R, n):\n    s = np.zeros(n)\n    r = np.zeros(n)\n    i = np.zeros(n)\n    s[0] = S\n    i[0] = I\n    r[0] = R\n    for j in range(1, n):\n        s[j] = s[j - 1] - B * i[j - 1] * s[j - 1]\n        i[j] = i[j - 1] + B * i[j - 1] * s[j - 1] - A * i[j - 1]\n        r[j] = r[j - 1] + A * i[j - 1]\n    return i",
            "execution_count": 21,
            "outputs": []
        },
        {
            "metadata": {},
            "cell_type": "markdown",
            "source": "Estymacja parametru B modelu za pomoc\u0105 metody najmniejszych kwadrat\u00f3w"
        },
        {
            "metadata": {},
            "cell_type": "code",
            "source": "from scipy.optimize import leastsq\n\ndef to_min(B):\n    return predict(A, B, ludnosc, 1, 0, data_len) - total\n\nB = leastsq(to_min, 1e-8)[0].item(0)\nprint(B)",
            "execution_count": 22,
            "outputs": [
                {
                    "output_type": "stream",
                    "text": "1.687308387486413e-08\n",
                    "name": "stdout"
                }
            ]
        },
        {
            "metadata": {},
            "cell_type": "markdown",
            "source": "Predykcja rozwoju wirusa przez 80 dni od pierwszego przypadku:"
        },
        {
            "metadata": {},
            "cell_type": "code",
            "source": "import matplotlib.pyplot as plt\nimport datetime as dt\nimport matplotlib.dates as mdates\n\nnumdays = 80\npreds = predict(A, B, ludnosc, 1, 0, numdays)",
            "execution_count": 23,
            "outputs": []
        },
        {
            "metadata": {},
            "cell_type": "code",
            "source": "plt.plot([i for i in range(numdays)], preds)\n\nplt.show()",
            "execution_count": 24,
            "outputs": [
                {
                    "output_type": "display_data",
                    "data": {
                        "text/plain": "<Figure size 432x288 with 1 Axes>",
                        "image/png": "[encoded data removed]"
                    },
                    "metadata": {
                        "needs_background": "light"
                    }
                }
            ]
        },
        {
            "metadata": {},
            "cell_type": "markdown",
            "source": "Jak wida\u0107 tak prosty model (mam nadziej\u0119) nie modeluje zbyt dobrze og\u00f3lnokrajowej epidemii - jest w nim zbyt ma\u0142o parametr\u00f3w, a danych jest zbyt ma\u0142o..."
        }
    ],
    "metadata": {
        "kernelspec": {
            "name": "python3",
            "display_name": "Python 3.6",
            "language": "python"
        },
        "language_info": {
            "name": "python",
            "version": "3.6.9",
            "mimetype": "text/x-python",
            "codemirror_mode": {
                "name": "ipython",
                "version": 3
            },
            "pygments_lexer": "ipython3",
            "nbconvert_exporter": "python",
            "file_extension": ".py"
        }
    },
    "nbformat": 4,
    "nbformat_minor": 1
}